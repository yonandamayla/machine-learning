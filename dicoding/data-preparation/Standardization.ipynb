{
 "cells": [
  {
   "cell_type": "markdown",
   "id": "28a5f771-5933-4100-a4ff-29978b3d8509",
   "metadata": {},
   "source": [
    "Standardization adalah proses konversi nilai-nilai dari suatu fitur sehingga nilai-nilai tersebut memiliki skala yang sama. Z score adalah metode paling populer untuk standardisasi di mana setiap nilai pada sebuah atribut numerik akan dikurangi dengan rata-rata dan dibagi dengan standar deviasi dari seluruh nilai pada sebuah kolom atribut"
   ]
  },
  {
   "cell_type": "markdown",
   "id": "1625186f-62f3-48e5-8ef7-53c1106588f8",
   "metadata": {},
   "source": [
    "Fungsi standardisasi itu serupa dengan normalization. Keduanya berfungsi menyamakan skala nilai dari tiap atribut pada data. SKLearn menyediakan library untuk mengaplikasikan standard scaler pada data."
   ]
  },
  {
   "cell_type": "markdown",
   "id": "390b1bbe-adb5-4a7c-b486-0be896c12c99",
   "metadata": {},
   "source": [
    "Kita akan mengimpor library preprocessing dari scikit learn lalu membuat data dummy sesuai dengan tabel"
   ]
  },
  {
   "cell_type": "code",
   "execution_count": 1,
   "id": "5d382bbe-92f3-4ee7-91d4-f124bb4e5577",
   "metadata": {},
   "outputs": [],
   "source": [
    "from sklearn import preprocessing\n",
    "data = [[12000000, 33], [35000000, 45], [4000000, 23], [6500000, 26], [9000000, 29]]"
   ]
  },
  {
   "cell_type": "markdown",
   "id": "a4bb933e-be7f-4550-99aa-b7f62ba2852b",
   "metadata": {},
   "source": [
    "Selanjutnya kita buat object scaler dan panggil fungsi fit dari scaler pada data. Fungsi fit memiliki fungsi untuk menghitung rata-rata dan deviasi standar dari setiap kolom atribut untuk kemudian dipakai pada fungsi transform"
   ]
  },
  {
   "cell_type": "code",
   "execution_count": 2,
   "id": "b762cc03-b2b5-437a-89f5-1bc329ca9661",
   "metadata": {},
   "outputs": [],
   "source": [
    "scaler = preprocessing.StandardScaler().fit(data)"
   ]
  },
  {
   "cell_type": "markdown",
   "id": "20c46143-be37-4b84-b8b7-9f69bcaa7c95",
   "metadata": {},
   "source": [
    "Terakhir, kita panggil fungsi transform untuk mengaplikasikan standard scaler pada data. Untuk melihat hasil dari standard scaler kita tinggal memanggil objek scaler yang telah kita buat sebelumnya"
   ]
  },
  {
   "cell_type": "code",
   "execution_count": 3,
   "id": "f5543174-0d9a-4d00-9128-d2de3a175423",
   "metadata": {},
   "outputs": [
    {
     "data": {
      "text/plain": [
       "array([[-0.11638732,  0.23521877],\n",
       "       [ 1.94277296,  1.80334389],\n",
       "       [-0.83261698, -1.07155217],\n",
       "       [-0.60879521, -0.67952089],\n",
       "       [-0.38497344, -0.28748961]])"
      ]
     },
     "execution_count": 3,
     "metadata": {},
     "output_type": "execute_result"
    }
   ],
   "source": [
    "data = scaler.transform(data)\n",
    "data"
   ]
  }
 ],
 "metadata": {
  "kernelspec": {
   "display_name": "Python 3 (ipykernel)",
   "language": "python",
   "name": "python3"
  },
  "language_info": {
   "codemirror_mode": {
    "name": "ipython",
    "version": 3
   },
   "file_extension": ".py",
   "mimetype": "text/x-python",
   "name": "python",
   "nbconvert_exporter": "python",
   "pygments_lexer": "ipython3",
   "version": "3.12.1"
  }
 },
 "nbformat": 4,
 "nbformat_minor": 5
}
