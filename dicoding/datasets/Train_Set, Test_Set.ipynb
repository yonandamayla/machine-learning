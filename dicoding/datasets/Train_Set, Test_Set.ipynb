{
 "cells": [
  {
   "cell_type": "markdown",
   "id": "9e5ffdbd-ca99-412a-ba6b-6e002686a184",
   "metadata": {},
   "source": [
    "Saat membagi dataset, kita perlu membuat informasi pada kedua bagian tetap berimbang. \n",
    "Membagi dataset dengan fungsi train_test_split dari library sklearn."
   ]
  },
  {
   "cell_type": "markdown",
   "id": "413fb97e-7297-4b14-9ddc-04e48040be02",
   "metadata": {},
   "source": [
    "Dengan fungsi train_test_split dari library sklearn, kita membagi array X dan y ke dalam 20% data testing (test_size=0.2 ). Misal total dataset A yang kita miliki adalah 1000 record, dengan test_size=0.2, maka data testing kita berjumlah 200 record dan jumlah data training sebesar 800 (80%)."
   ]
  },
  {
   "cell_type": "markdown",
   "id": "aaeafe8c-445b-45d4-a7d4-496118917528",
   "metadata": {},
   "source": [
    "Sebelum proses pemisahan, fungsi train_test_split telah mengacak dataset secara internal terlebih dahulu. Misal dataset A kita terdiri dari 5 kelas dengan jumlah masing-masing kelas sebesar 200 record, maka dengan proses shuffling sebelum pemisahan, data testing akan memiliki data dari 5 kelas yang ada. Tanpa proses shuffling, seluruh data dari kelas 1 - 4 akan berakhir di set data training, dan data testing hanya berisi data dari kelas 5 saja. Proses shuffling menjaga rasio informasi pada data training dan testing tetap berimbang."
   ]
  },
  {
   "cell_type": "markdown",
   "id": "19686cc2-7fa4-45cc-93fb-7e5e2e77757f",
   "metadata": {},
   "source": [
    "Melalui parameter random_state, fungsi train_test_split menyediakan random seed yang tetap untuk internal pseudo-random generator yang digunakan pada proses shuffling. Umumnya, nilai yang digunakan adalah 0, atau 1, atau ada juga yang menggunakan 42. Menentukan parameter random_state bertujuan untuk dapat memastikan bahwa hasil pembagian dataset konsisten dan memberikan data yang sama setiap kali model dijalankan."
   ]
  },
  {
   "cell_type": "code",
   "execution_count": 3,
   "id": "df3def5f-8c41-403e-b90b-f23af1402d48",
   "metadata": {},
   "outputs": [
    {
     "name": "stdout",
     "output_type": "stream",
     "text": [
      "random_state ditentukan\n",
      "[8, 1, 5]\n",
      "[8, 1, 5]\n",
      "[8, 1, 5]\n",
      "random_state tidak ditentukan\n",
      "[6, 5, 9]\n",
      "[7, 9, 1]\n",
      "[4, 5, 3]\n"
     ]
    }
   ],
   "source": [
    "from sklearn.model_selection import train_test_split\n",
    " \n",
    "X_data = range(10)\n",
    "y_data = range(10)\n",
    " \n",
    "print(\"random_state ditentukan\")\n",
    "for i in range(3):\n",
    "    X_train, X_test, y_train, y_test = train_test_split(X_data, y_data, test_size = 0.3, random_state = 42)\n",
    "    print(y_test)\n",
    " \n",
    " \n",
    "print(\"random_state tidak ditentukan\")\n",
    "for i in range(3):\n",
    "    X_train, X_test, y_train, y_test = train_test_split(X_data, y_data, test_size = 0.3, random_state = None)\n",
    "    print(y_test)"
   ]
  }
 ],
 "metadata": {
  "kernelspec": {
   "display_name": "Python 3 (ipykernel)",
   "language": "python",
   "name": "python3"
  },
  "language_info": {
   "codemirror_mode": {
    "name": "ipython",
    "version": 3
   },
   "file_extension": ".py",
   "mimetype": "text/x-python",
   "name": "python",
   "nbconvert_exporter": "python",
   "pygments_lexer": "ipython3",
   "version": "3.12.1"
  }
 },
 "nbformat": 4,
 "nbformat_minor": 5
}
