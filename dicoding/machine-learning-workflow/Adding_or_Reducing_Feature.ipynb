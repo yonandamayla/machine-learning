{
 "cells": [
  {
   "cell_type": "markdown",
   "id": "1f8429b1-f0e3-474d-93ef-ac93ef2aedd5",
   "metadata": {},
   "source": [
    "# Menambahkan/Mengurangi Fitur\n",
    "Beberapa teknik dalam rekayasa fitur antara lain :\n",
    "\n",
    "# Binning. \n",
    "Binning adalah pengelompokan nilai sesuai dengan batas besaran yang ditentukan. Pada binning, data dikelompokkan dalam tiap ‘bin’ sesuai dengan nilai yang cocok dengan bin tersebut. Bin sederhananya adalah sebuah kategori yang menampung nilai-nilai tertentu.\r\n",
    "\r\n",
    "Ada beberapa jenis binning di mana salah satu contohnya adalah binning jarak. Pada binning jarak, nilai-nilai dari sebuah atribut akan dikategorikan ke dalam jumlah bin tertentu yang memiliki interval sama besa\n",
    "\n",
    "Binning bisa membantu untuk menghindari overfitting. Namun binning juga mengorbankan informasi yang terkandung dari sebuah atribut sehingga, penggunaanya perlu dilakukan dengan teliti. Ada beberapa cara untuk menentukan batas bin, misalnya dengan membuat tepi bin berjarak sama, atau menggunakan kuartil data. Pada library sklearn, kedua teknik ini diimplementasikan dengan KBinsDiscretizer.\n",
    "Binning = https://www.coursera.org/lecture/data-analysis-with-python/binning-in-python-T8z3M\n",
    "Bucketting = https://developers.google.com/machine-learning/data-prep/transform/bucketing\n",
    "Group data into bins = https://learn.microsoft.com/en-us/previous-versions/azure/machine-learning/studio-module-reference/group-data-into-bins\n",
    "\n",
    "# Splitting\n",
    "Memisahkan sebuah atribut menjadi atribut-atribut baru juga merupakan salah satu cara yang berguna. Dengan splitting kita membuat atribut lebih mudah dipahami oleh model machine learning. Memisahkan sebagian data dalam kolom menjadi fitur baru memberikan keuntungan antara lain:\n",
    "1. meningkatkan performa model dengan menemukan informasi berharga\n",
    "2. membuat kita lebih mudah untuk melakukan proses binning dan grouping.\n",
    "\n",
    "Ada beberapa cara untuk melakukan fungsi split, tergantung pada karakteristik kolom. Mari kita ambil salah satu contoh kasus. Sebuah atribut dengan judul “ram_hardisk” yang berisi informasi mengenai besar ram dan penyimpanan dari harddisk. Kita dapat memisahkan atribut tersebut menjadi “ram” dan “storage” untuk memudahkan model mendapatkan informasi lebih banyak dari atribut baru.\n",
    "Contoh lain adalah kolom ‘full_name’. Misal kita hanya membutuhkan informasi nama hanya terdiri dari satu kata. Maka, kita dapat membagi atribut pada kolom nama dengan memisahkan data ‘first_name’ dan ‘last_name’ kemudian menggunakan salah satu atribut baru tersebut sesuai kebutuhan.\n",
    "\n",
    "# Interaction feature\n",
    "Dalam model machine learning, kita juga bisa menciptakan fitur atau atribut baru dari atribut-atribut yang ada. Mengkombinasikan dua atribut kadang bisa menjelaskan varian data dengan lebih baik dibanding dua atribut yang dioperasikan secara terpisah. Membuat atribut baru melalui interaksi antar atribut disebut sebagai interaction feature. Sederhananya, interaction feature adalah perkalian produk antara dua buah fitur. Analoginya adalah logika AND.\n",
    "\n",
    "Mari kita jabarkan penjelasan di atas dalam contoh berikut.\r",
    "1. \r\n",
    "Misal kita telah memiliki sebuah atribut bernama ‘schools’ yaitu sejumlah sekolah yang berada dalam radius 5 km dari pusat kota2. \r\n",
    "\r\n",
    "Kita juga memiliki atribut lain yaitu ‘accredited_A’ yang merupakan sejumlah sekolah yang telah terakreditasi3. A.\r\n",
    "\r\n",
    "Dalam menentukan pilihan sekolah, kita mungkin menginginkan sekolah yang dekat tapi juga telah memiliki akreditas4.  A. \r\n",
    "\r\n",
    "Untuk mengakomodasi kebutuhan tersebut, kita dapat membuat atribut baru misalnya: ‘selected_schools’ = ‘schools’ x ‘accre\n",
    "\n",
    "Interaction feature sangat mudah untuk dirumuskan, tetapi biaya komputasinya cukup tinggi. Untuk sebuah model linear dengan interaction feature berpasangan, kebutuhan waktu pelatihannya akan berubah dari O(n) menjadi O(n2), di mana n adalah jumlah fitur tunggal. \r\n",
    "\r\n",
    "Ada beberapa cara untuk mengatasi permasalahan i:\n",
    "1. F feature selection, teknik lain dalam feature engineerin\n",
    "2. M menyusun (handcrafted) sejumlah kecil fitur kompleks secara hati-hati.dited_A’r."
   ]
  }
 ],
 "metadata": {
  "kernelspec": {
   "display_name": "Python 3 (ipykernel)",
   "language": "python",
   "name": "python3"
  },
  "language_info": {
   "codemirror_mode": {
    "name": "ipython",
    "version": 3
   },
   "file_extension": ".py",
   "mimetype": "text/x-python",
   "name": "python",
   "nbconvert_exporter": "python",
   "pygments_lexer": "ipython3",
   "version": "3.12.1"
  }
 },
 "nbformat": 4,
 "nbformat_minor": 5
}
