{
 "cells": [
  {
   "cell_type": "markdown",
   "id": "299c808e-2c93-49c2-8d1f-4aad7ad8d28b",
   "metadata": {},
   "source": [
    "Untuk memahami tentang machine learning use case, kita perlu mengetahui beberapa konsep berikut terlebih dahulu."
   ]
  },
  {
   "cell_type": "markdown",
   "id": "7284ee83-8285-4994-aa90-465b38c62931",
   "metadata": {},
   "source": [
    "# ML dan Business Intelligence\n",
    "Business Intelligence atau sering disebut BI telah menjadi bidang keahlian yang penting dalam Data Analytics. BI mengacu pada penggunaan berbagai alat dan teknologi dalam proses pengumpulan, analisis, dan interpretasi data bisnis. Tujuan utama business intelligence adalah untuk memberikan informasi dan analisis yang berguna untuk membantu proses pengambilan keputusan dan strategi perusahaan. \n",
    "\n",
    "Machine learning adalah teknik yang bisa mendeteksi pola dari sekumpulan data. Pada ML jenis regresi kita membuat model dengan data di masa lampau dan kita menggunakan data tersebut untuk memprediksi apa yang akan terjadi di masa mendatang. \r\n",
    "\r\n",
    "Jadi, kita bisa menyimpulkan bahwa BI adalah bidang yang menjelaskan apa yang terjadi di masa lampau dan analisis yang menyebabkan hal tersebut terjadi. BI memungkinkan data untuk dipahami dalam perannya untuk kepentingan bisnis dan dengan teknik visualisasi, kita menggunakan BI untuk membuat keputusan-keputusan bisnis. Sedangkan ML adalah bidang yang mencoba memprediksi apa yang akan terjadi di masa mendatang dari pola data di masa lal\n",
    "\n",
    "# ML di Bidang Data Analytic\n",
    "Data analytics adalah istilah luas yang mengacu pada penggunaan berbagai teknik untuk menemukan pola dalam data. Ia adalah proses di mana data diubah menjadi informasi berharga dan prediksi untuk masa mendatang. Data analytics memungkinkan kita untuk menjelaskan apa yang terjadi di masa lalu, mendapatkan informasi penting tentang masa kini, dan membuat prediksi tentang masa depan.\n",
    "\n",
    "Hingga saat ini, data analytics dan machine learning hampir selalu bekerja berdampingan untuk menyelesaikan permasalahan industri. Analis jadi bisa melihat lebih dalam suatu masalah berdasarkan data yang ada, lalu menentukan apakah masalah tersebut bisa diselesaikan dengan machine learning atau tidak.Setelah masalah diidentifikasi, maka peran seorang machine learning developer adalah mengimplementasi, mulai dari mengumpulkan data, memilih model yang sesuai, melakukan deployment, dan memonitor model tersebut. Dengan cara inilah machine learning membantu proses analisis data dan pengambilan keputusan di industri.u."
   ]
  }
 ],
 "metadata": {
  "kernelspec": {
   "display_name": "Python 3 (ipykernel)",
   "language": "python",
   "name": "python3"
  },
  "language_info": {
   "codemirror_mode": {
    "name": "ipython",
    "version": 3
   },
   "file_extension": ".py",
   "mimetype": "text/x-python",
   "name": "python",
   "nbconvert_exporter": "python",
   "pygments_lexer": "ipython3",
   "version": "3.12.1"
  }
 },
 "nbformat": 4,
 "nbformat_minor": 5
}
