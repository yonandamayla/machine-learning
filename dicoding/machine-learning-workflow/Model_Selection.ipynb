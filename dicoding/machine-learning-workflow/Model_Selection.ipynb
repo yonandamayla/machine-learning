{
 "cells": [
  {
   "cell_type": "markdown",
   "id": "37fb7a4d-7ee9-4e2a-8413-5346c65ff4fb",
   "metadata": {},
   "source": [
    "# Model Selection\n",
    "Sebuah model machine learning memiliki parameter yang dapat di tuning. Penggunakan parameter pada sebuah model machine learning contohnya adalah ketika memasukkan parameter “n_cluster” pada model K-Means. Ketika mengembangkan model K-Means, mengubah parameter -- dalam hal ini memilih jumlah n_cluster -- merupakan bentuk dari tuning parameter.\n",
    "\n",
    "Tuning Parameter adalah istilah yang digunakan untuk meningkatkan performa model machine learning. Proses ini mirip dengan proses tweak. Misalnya pada komputer di mana kita mengganti komponen komputer sehingga peranti tersebut memiliki performa lebih tinggi demi kinerja efisien. Pada model K-means, jumlah cluster yang kurang atau terlalu banyak akan menyebabkan hasil pengklasteran kurang optimal. Tuning parameter dalam hal ini adalah bereksperimen mencari parameter terbaik untuk model K-Means tersebut.\n",
    "\n",
    "Tujuan melakukan tuning pada model yaitu agar model memiliki tingkat eror yang lebih kecil atau akurasi yang lebih baik. Sebuah contoh dari tuning parameter adalah pada kasus spam filter, di mana model spam filter yang telah di-tuning akan lebih akurat dalam mendeteksi email spam, dan melakukan lebih sedikit kesalahan dalam memprediksi email spam yang bukan spam.\n",
    "\n",
    "Berbagai jenis model machine learning dan parameter setiap model dapat dipelajari pada link berikut : https://scikit-learn.org/stable/index.html\n",
    "\n",
    "# Grid Search\n",
    "Ada salah satu teknik untuk menguji beberapa parameter sekaligus. Teknik ini disebut dengan Grid Search. \n",
    "Grid search memungkinkan kita menguji beberapa parameter sekaligus pada sebuah model. Contohnya kita bisa menguji beberapa jumlah cluster untuk sebuah model K-Means dan melihat bagaimana performa model K-Means terhadap nilai K yang berbeda."
   ]
  }
 ],
 "metadata": {
  "kernelspec": {
   "display_name": "Python 3 (ipykernel)",
   "language": "python",
   "name": "python3"
  },
  "language_info": {
   "codemirror_mode": {
    "name": "ipython",
    "version": 3
   },
   "file_extension": ".py",
   "mimetype": "text/x-python",
   "name": "python",
   "nbconvert_exporter": "python",
   "pygments_lexer": "ipython3",
   "version": "3.12.1"
  }
 },
 "nbformat": 4,
 "nbformat_minor": 5
}
