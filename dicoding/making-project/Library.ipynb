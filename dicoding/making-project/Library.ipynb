{
 "cells": [
  {
   "cell_type": "markdown",
   "id": "e8b0b5f5-2a0b-4dd4-bff6-27f40939b8d1",
   "metadata": {},
   "source": [
    "Python merupakan bahasa paling populer yang digunakan oleh para Data Scientist dan pengembang Machine Learning (ML). "
   ]
  },
  {
   "cell_type": "markdown",
   "id": "50d14359-7b57-436b-9d54-e70cbfca63c7",
   "metadata": {},
   "source": [
    "# Apa itu script dan interactive mode?\n",
    "Sederhananya, script mode adalah mode penulisan kode dalam sebuah berkas teks (umumnya berekstensi .py). Pada mode ini, berkas teks berisi kode kemudian dieksekusi oleh compiler atau interpreter.  Mode script sangat cocok untuk menulis kode yang kompleks dan panjang.\n",
    "\n",
    "Sementara itu, mode interaktif pada Python memungkinkan kita untuk menulis dan menjalankan perintah secara langsung. Pada mode ini, kita dapat langsung mendapatkan output begitu perintah dieksekusi. Output kode dalam mode interaktif dipengaruhi oleh perintah terakhir yang kita jalankan. Mode ini biasanya digunakan untuk menulis baris kode yang pendek dan mencoba berbagai variasi sintaks."
   ]
  },
  {
   "cell_type": "markdown",
   "id": "6fd917d8-8ef9-40df-8aa8-4171ff4df9b1",
   "metadata": {},
   "source": [
    "# Tools untuk Pemrograman Python\n",
    "### Jupyter Notebook\n",
    "### Google Colaboratory\n",
    "### IBM Watson Studio"
   ]
  },
  {
   "cell_type": "markdown",
   "id": "3f41437a-a157-4bc3-9914-9f8cd62dffbc",
   "metadata": {},
   "source": [
    "# Library Populer untuk Machine Learning dan Data Science\n",
    "## Numpy\n",
    "Numpy sangat terkenal sebagai library untuk memproses larik atau array. Library ML seperti TensorFlow juga menggunakan Numpy untuk memproses tensor atau sebuah larik N dimensi.\n",
    "## Pandas\n",
    "Pandas menjadi salah satu library favorit untuk analisis dan manipulasi data.\n",
    "## Matplotlib\n",
    "Matplotlib adalah sebuah library untuk membuat plot atau visualisasi data dalam 2 dimensi. Matplotlib dapat dipakai untuk membuat plot seperti histogram, scatter plot, grafik batang, pie chart, hanya dengan beberapa baris kode.\n",
    "## Scikit Learn\n",
    "Scikit Learn menyediakan banyak pilihan algoritma machine learning yang dapat langsung dipakai seperti klasifikasi, regresi, clustering, dimensionality reduction, dan pemrosesan data. Selain itu Scikit Learn juga dapat dipakai untuk analisis data.\n",
    "## TensorFlow\n",
    "TensorFlow adalah framework open source untuk machine learning yang dikembangkan dan digunakan oleh Google. TensorFlow memudahkan pembuatan model ML bagi pemula maupun ahli. Ia dapat dipakai untuk deep learning, computer vision, pemrosesan bahasa alami (Natural Language Processing), serta reinforcement learning.\n",
    "## PyTorch\n",
    "Dikembangkan oleh Facebook, PyTorch adalah library yang dapat dipakai untuk masalah ML, computer vision, hingga pemrosesan bahasa alami.\n",
    "## Keras\n",
    "Keras adalah library deep learning. Keras dibangun di atas TensorFlow yang menjadikan Keras sebagai API dengan level lebih tinggi (Higher level API) dari TensorFlow sehingga antarmukanya lebih mudah dari TensorFlow. Keras sangat cocok untuk mengembangkan model deep learning dengan waktu yang lebih singkat atau untuk pembuatan prototipe."
   ]
  }
 ],
 "metadata": {
  "kernelspec": {
   "display_name": "Python 3 (ipykernel)",
   "language": "python",
   "name": "python3"
  },
  "language_info": {
   "codemirror_mode": {
    "name": "ipython",
    "version": 3
   },
   "file_extension": ".py",
   "mimetype": "text/x-python",
   "name": "python",
   "nbconvert_exporter": "python",
   "pygments_lexer": "ipython3",
   "version": "3.12.1"
  }
 },
 "nbformat": 4,
 "nbformat_minor": 5
}
