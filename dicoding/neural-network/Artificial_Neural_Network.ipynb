{
 "cells": [
  {
   "cell_type": "markdown",
   "id": "962bf535-17d1-4311-b8b7-624ea9ec7ac9",
   "metadata": {},
   "source": [
    "# Artificial Neural Network\n",
    "Jaringan Saraf Tiruan atau Artificial Neural Network (ANN) adalah sebuah model machine learning yang terinspirasi dari neuron/saraf yang terdapat pada otak manusia.\n",
    "\n",
    "# Neuron dalam Otak\n",
    "Neuron atau saraf adalah pembawa pesan/informasi. Sebuah saraf terdiri dari 3 (tiga) bagian utama, yaitu akson, dendrit, dan badan sel yang di dalamnya terdapat nukleus. Nukleus berisi materi genetik dan bertugas mengontrol seluruh aktivitas sel. Akson adalah cabang yang terlihat seperti ekor yang panjang, bertugas mengirimkan pesan dari sel. Panjang akson berkisar antara beberapa kali lebih panjang dari badan sel, sampai 10 ribu kali lebih panjang dari badan sel. Sedangkan dendrit adalah cabang-cabang pendek yang terlihat seperti cabang pohon, bertugas menerima pesan untuk sel. \n",
    "\n",
    "Neuron berkomunikasi satu sama lain dengan mengirimkan senyawa kimia yang disebut neurotransmitter, melintasi ruang kecil (synapse) antara akson dan dendrit neuron yang berdekatan. Ketika sebuah neuron mendapatkan rangsangan, neuron tersebut akan mengirim sinyal ke neuron lainnya. Seperti ketika kita tidak sengaja menyentuh panci yang panas, saraf di  tangan kita mengirim sinyal ke saraf lain sampai ke otak dan kita merespon dengan cepat. Pengiriman sinyal antar neuron terjadi sangat cepat yaitu hanya dalam beberapa milidetik.\n",
    "\n",
    "# Perceptron\n",
    "Perceptron adalah komponen dasar pembangun jaringan saraf tiruan. Perceptron pada jaringan saraf tiruan terinspirasi dari neuron pada jaringan saraf di otak manusia. Pada jaringan saraf tiruan, perceptron dan neuron merujuk pada hal yang sama. Bagaimana perceptron bekerja pada jaringan saraf tiruan? \n",
    "Sebuah perceptron menerima masukan berupa bilangan numerik. Perceptron kemudian memproses masukan tersebut untuk menghasilkan sebuah keluaran. Sebuah perceptron terdiri dari 5 komponen yaitu:\n",
    "1. Input (xi)\n",
    "2. Bobot atau weights (Wi) dan bias (W0)\n",
    "3. Penjumlahan atau sum (∑)\n",
    "4. Fungsi aktivasi atau non linearity function (⎰)\n",
    "5. Output (y)\r\n",
    "Berikut adalah proses yang menjelaskan bagaimana perceptron bekerja, yaitu:\n",
    "1. Input menerima masukan berupa angka-angka.\n",
    "2. Setiap input memiliki bobot masing-masing. Bobot adalah parameter yang akan dipelajari oleh sebuah perceptron dan menunjukkan kekuatan node tertentu.\n",
    "3. Selanjutnya adalah tahap penjumlahan input. Pada tahap ini setiap input akan dikalikan dengan bobotnya masing masing, lalu hasilnya akan ditambahkan dengan bias yang merupakan sebuah konstanta atau angka. Nilai bias memungkinkan kita untuk mengubah kurva fungsi aktivasi ke atas atau ke bawah sehingga bisa lebih fleksibel dalam meminimalisasi eror. \n",
    "Penjelasan bias : https://towardsdatascience.com/why-we-need-bias-in-neural-networks-db8f7e07cb98\n",
    "Hasil penjumlahan pada tahap ini biasanya disebut weighted sum.\n",
    "4. Langkah keempat, aplikasikan weighted sum pada fungsi aktivasi atau disebut juga Non-Linearity Function. Fungsi aktivasi digunakan untuk memetakan nilai yang dihasilkan menjadi nilai yang diperlukan, misalnya antara (0, 1) atau (-1, 1). Fungsi ini memungkinkan perseptron dapat menyesuaikan pola untuk data yang non linier\n",
    "5. Setelah semua langkah di atas, akhirnya kita memperoleh output, yaitu hasil dari perhitungan sebuah perceptron yang merupakan bilangan numerik.\n",
    "\n",
    "Fungsi aktivasi pada perceptron bertugas untuk membuat jaringan saraf mampu menyesuaikan pola pada data non linier. Seperti yang sudah pernah dibahas sebelumnya, mayoritas data yang terdapat di dunia nyata adalah data non linier. Fungsi aktivasi lah yang memungkinkan jaringan saraf dapat mengenali pola non-linier, tanpa fungsi aktivasi, jaringan saraf hanya bisa mengenali pola linier seperti garis pada regresi linier.\n",
    "\n",
    "Ada 3 fungsi aktivasi yang paling umum yaitu sigmoid function, hyperbolic tangent, dan rectified linear unit (ReLU).\n",
    "# Sigmoid atau Logistic Function.\n",
    "Fungsi ini berada di antara nilai 0 hingga 1 sehingga biasanya digunakan untuk memprediksi model probabilitas yang outputnya ada di kisaran 0 dan 1. Dengan kemiringan yang halus (smooth gradient) memungkinkan Gradient Descent (algoritma pengoptimalan yang mampu menemukan solusi optimal untuk berbagai masalah) berprogres pada setiap langkahnya. Selain itu, fungsi sigmoid memberikan nilai prediksi yang lebih jelas.\n",
    "\n",
    "# Hyperbolic Tangent (tanh)\n",
    "Sama seperti fungsi sigmoid, fungsi tanh berbentuk S, kontinu, dan dapat dibedakan. Perbedaannya adalah nilai keluarannya berkisar dari -1 hingga 1. Rentang tersebut cenderung membuat keluaran setiap lapisan kurang lebih berpusat di sekitar 0 pada awal pelatihan sehingga dapat membantu mempercepat konvergensi. Sifat zero centered ini juga membuat fungsi ini lebih mudah dalam memodelkan masukan yang memiliki nilai sangat negatif, netral, dan sangat positif.\n",
    "\n",
    "# Rectified Linear Unit (ReLU)\n",
    "Fungsi ReLU bersifat kontinu meski kemiringannya berubah secara tiba-tiba dan nilai turunannya bernilai 0 pada z < 0. Akan tetapi, fungsi ini bekerja dengan sangat baik dan membuat jaringan bekerja secara efisien sehingga mempercepat waktu komputasi. Karena hal inilah, fungsi aktivasi ini sering digunakan sebagai fungsi aktivasi default pada jaringan saraf tiruan/ANN. \n",
    "\n",
    "Karena koneksi tiap perceptron dan tiap input sangat padat, jadi dinamakan dengan dense layer. Dense layer adalah sebuah lapisan yang terdiri dari 2 perceptron atau lebih. Sebuah hidden layer adalah dense layer yang berada di antara input layer dan output layer.\n",
    "\n",
    "Dalam sebuah jaringan saraf tiruan, input layer dan output layer harus selalu ada, namun untuk hidden layer bisa ada beberapa atau tidak sama sekali. Hidden layer dan output layer sama-sama merupakan sebuah layer yang memiliki beberapa perceptron. Sedangkan input layer adalah sebuah layer yang hanya menampung angka-angka.\r\n",
    "\r\n",
    "Hidden layer diberikan nama hidden karena sifatnya yang tersembunyi. Pada sebuah sistem jaringan saraf, input dan output layer merupakan lapisan yang dapat kita amati, sementara hidden layer, tidak.\r\n",
    "\r\n",
    "Pada sebuah jaringan saraf tiruan, semakin banyak jumlah hidden layer dalam sistem, semakin lama jaringan saraf tersebut memproduksi hasil, namun juga semakin kompleks masalah yang dapat diselesaikan.\r\n"
   ]
  }
 ],
 "metadata": {
  "kernelspec": {
   "display_name": "Python 3 (ipykernel)",
   "language": "python",
   "name": "python3"
  },
  "language_info": {
   "codemirror_mode": {
    "name": "ipython",
    "version": 3
   },
   "file_extension": ".py",
   "mimetype": "text/x-python",
   "name": "python",
   "nbconvert_exporter": "python",
   "pygments_lexer": "ipython3",
   "version": "3.12.1"
  }
 },
 "nbformat": 4,
 "nbformat_minor": 5
}
