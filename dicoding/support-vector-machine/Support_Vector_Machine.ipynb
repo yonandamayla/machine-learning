{
 "cells": [
  {
   "cell_type": "markdown",
   "id": "5b9e2f6b-258c-4d80-9a10-67a65f93b1b9",
   "metadata": {},
   "source": [
    "# Support Vector Machine\n",
    "Support Vector Machine adalah model ML multifungsi yang dapat digunakan untuk menyelesaikan permasalahan klasifikasi, regresi, dan pendeteksian outlier.\n",
    "Tujuan dari algoritma SVM adalah untuk menemukan hyperplane terbaik dalam ruang berdimensi-N (ruang dengan N-jumlah fitur) yang berfungsi sebagai pemisah yang jelas bagi titik-titik data input. Beberapa keunggulan Support Vector Machine antara lain:\n",
    "\n",
    " 1. SVM efektif pada data berdimensi tinggi (data dengan jumlah fitur atau atribut yang sangat banyak).\n",
    " 2. SVM efektif pada kasus di mana jumlah fitur pada data lebih besar dari jumlah sampel.\n",
    " 3. SVM menggunakan subset poin pelatihan dalam fungsi keputusan (disebut support vector) sehingga membuat penggunaan memori menjadi lebih efisien.\n",
    "\n",
    "# Support Vector Machine Classifier\n",
    "Menurut Aurelien Geron dalam buku Hands on Machine Learning, SVM bekerja dengan membuat decision boundary atau sebuah bidang yang mampu memisahkan dua buah kelas. Pada masalah ini decision boundary yang mampu memisahkan kelas ayam dan kelas ular. Bagaimana SVM membuat sebuah decision boundary tersebut?\n",
    "1. Pertama SVM mencari support vector pada setiap kelas. Support vector adalah sampel dari masing-masing kelas yang memiliki jarak paling dekat dengan sampel kelas lainnya.\n",
    "2. Setelah support vector ditemukan, SVM menghitung margin. Margin bisa kita anggap sebagai jalan yang memisahkan dua kelas. Margin dibuat berdasarkan support vector di mana support vector bekerja sebagai batas tepi jalan, atau sering kita kenal sebagai bahu jalan. SVM mencari margin terbesar atau jalan terlebar yang mampu memisahkan kedua kelas. Karena ‘jalan’ atau margin pada contoh sebelah kanan lebih lebar dari ‘jalan’ di sebelah kiri. Oleh karena itu, gambar sebelah kanan disebut sebagai high margin classification dan gambar di sebelah kiri disebut low margin classification. \r\n",
    "Decision boundary adalah garis yang membagi jalan atau margin menjadi 2 bagian yang sama besar. Hyperplane adalah bidang yang memisahkan kedua kelas, sedangkan margin adalah lebar ‘jalan’ yang membagi kedua kelas.s\n",
    "\n",
    "Jadi, support vector classifier bekerja dengan mencari margin terbesar, atau jalan terlebar yang mampu untuk memisahkan 2 buah kela., karena \n",
    "\n",
    " mSVM Klasifikasi non Linier\n",
    "Pada data non-linear, decision boundary yang dihitung algoritma SVM bukan berbentuk garis lurus, karena data yang tidak bisa dipisahkan secara linier, sehingga kita menyebutnya sebagai data non-linear.Meski cukup rumit dalam menentukan decision boundary pada kasus ini, tapi kita juga mendapatkan keuntungan, yaitu, bisa menangkap lebih banyak relasi kompleks dari setiap data poin yang tersebar.Sebagai contoh, , Support Vector Classifier dapat menggunakan sebuah metode yaitu “kernel trick” sehingga data dapat dipisahkan secara linier. Apa itu trik kernel? Ia adalah sebuah metode untuk mengubah data pada dimensi tertentu (misal 2D) ke dalam dimensi yang lebih tinggi (3D) sehingga dapat menghasilkan hyperplane yang optimal.\n",
    "BCara kerja trik kernel :\n",
    "1. Pertama, kita perlu menghitung skor jarak dari dua titik data, misal x_i dan x_j. Skor akan bernilai lebih tinggi untuk titik data yang lebih dekat, dan sebaliknya. Lalu kita gunakan skor ini untuk memetakan data pada dimensi yang lebih tinggi (3D). Teknik ini berguna untuk mengurangi waktu dan sumber daya komputasi, terutama untuk data berjumlah besar. Hal ini juga mencegah kebutuhan akan proses transformasi yang lebih kompleks. Itulah mengapa teknik ini sering disebut sebagai trik kernel\n",
    "\n",
    "Animasi yang dibuat oleh Udiprod berikut https://www.youtube.com/watch?v=3liCbRZPrZA dapat membantu kita untuk melihat bagaimana data 2 dimensi -seperti diubah ke dalam ruang 3 dimensi, sehingga data dapat dipisahkan secara linier.\n",
    "\n",
    "Berikut adalah beberapa fungsi kernel yang perlu diketahui :\n",
    "1. Linear\n",
    "2. RBF (Radial Basis Function) atau Gaussian kernel\n",
    "3. Polinomial\n",
    "4. Sigmoid\n",
    "\n",
    "https://data-flair.training/blogs/svm-kernel-functions/\n",
    "\n",
    "Salah satu contoh aplikasi SVM dalam kehidupan sehari-hari adalah fitur deteksi wajah. Sistem pengenalan wajah memiliki banyak fitur/kelas (individu) dan hanya memiliki beberapa data gambar (sampel) per orang, bahkan kadang hanya ada satu sampel pelatihan untuk setiap orang.\n",
    "Aplikasi lain SVM yang juga menarik adalah di bidang bioinformatika. Dalam bidang komputasi biologi, deteksi homologi jarak jauh pada protein (protein remote homology detection) adalah permasalahan yang umum. Metode paling efektif untuk menyelesaikan permasalahan ini adalah dengan SVM. Dalam beberapa tahun terakhir, algoritma SVM telah diterapkan secara luas untuk proses deteksi ini. Fungsi kernel pada SVM digunakan untuk mengidentifikasi sekuens biologis dan membantu menemukan kesamaan antara urutan protein yang berbeda. \r\n",
    "# SVM untuk Klasifikasi Multi-kelas\n",
    "SVM sejatinya merupakan binary classifier atau model untuk klasifikasi 2 kelas. Namun, SVM juga dapat dipakai untuk klasifikasi multi-kelas menggunakan suatu teknik yaitu “one-vs-rest”. \n",
    "\n",
    "Pada masalah klasifikasi multi-kelas, SVM melakukan klasifikasi biner untuk masing-masing kelas. Model kemudian memisahkan kelas tersebut dari semua kelas lainnya, menghasilkan model biner sebanyak jumlah kelasnya. Untuk membuat prediksi, semua proses klasifikasi biner dijalankan pada tahap uji. \n",
    ". "
   ]
  },
  {
   "cell_type": "code",
   "execution_count": null,
   "id": "18ddbb5f-ac92-4865-b424-44f8fba959f6",
   "metadata": {},
   "outputs": [],
   "source": []
  }
 ],
 "metadata": {
  "kernelspec": {
   "display_name": "Python 3 (ipykernel)",
   "language": "python",
   "name": "python3"
  },
  "language_info": {
   "codemirror_mode": {
    "name": "ipython",
    "version": 3
   },
   "file_extension": ".py",
   "mimetype": "text/x-python",
   "name": "python",
   "nbconvert_exporter": "python",
   "pygments_lexer": "ipython3",
   "version": "3.12.1"
  }
 },
 "nbformat": 4,
 "nbformat_minor": 5
}
