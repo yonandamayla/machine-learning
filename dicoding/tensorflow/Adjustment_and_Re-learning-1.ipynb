{
 "cells": [
  {
   "cell_type": "markdown",
   "metadata": {},
   "source": [
    "# Adjustment and Re-learning\n",
    "Umumnya sebuah model yang di-deploy kinerjanya akan turun seiring waktu. Kenapa?\n",
    "\n",
    "Karena model akan terus menemui lebih banyak data baru seiring waktu. Hal tersebut akan menyebabkan akurasi model menurun. Misalnya sebuah model untuk memprediksi harga rumah yang dikembangkan dengan data pada tahun 2010. Model yang dilatih pada data pada tahun tersebut akan menghasilkan prediksi yang buruk pada data tahun 2020.\n",
    "\n",
    "Untuk mengatasi masalah ini, ada 2 teknik dasar untuk menjaga agar model selalu bisa belajar dengan data-data baru. Dua teknik tersebut yaitu manual retraining dan continuous learning.\n",
    "\n",
    "# Manual Retraining\n",
    "Teknik pertama adalah melakukan ulang proses pelatihan model dari awal. Di mana data-data baru yang ditemui di tahap produksi akan digabung dengan data lama. Lebih lanjut, model dilatih ulang dari awal sekali menggunakan data lama dan data baru.\n",
    "\n",
    "Bayangkan ketika kita harus melatih ulang model dalam jangka waktu mingguan atau bahkan harian. Sesuai yang dibayangkan, proses ini akan sangat memakan waktu.\n",
    "\n",
    "Namun, manual retraining juga memungkinan kita menemukan model-model baru atau atribut-atribut baru yang menghasilkan performa lebih baik.\n",
    "\n",
    "# Continuous Learning\n",
    "Teknik kedua untuk menjaga model kita up-to-date adalah continuous learning yang menggunakan sistem terotomasi dalam pelatihan ulang model. Alur dari continuous learning yaitu:\n",
    "\n",
    "1. Menyimpan data-data baru yang ditemui pada tahap produksi. Contohnya ketika sistem mendapatkan harga emas naik, data harga tersebut akan disimpan di database.\n",
    "2. Ketika data-data baru yang dikumpulkan cukup, lakukan pengujian akurasi dari model terhadap data baru.\n",
    "3. Jika akurasi model menurun seiring waktu, gunakan data baru, atau kombinasi data lama dan data baru untuk melatih dan men-deploy ulang model.\n",
    "\n",
    "Sesuai namanya, 3 proses di atas dapat terotomasi sehingga kita tidak perlu melakukannya secara manual."
   ]
  }
 ],
 "metadata": {
  "language_info": {
   "name": "python"
  }
 },
 "nbformat": 4,
 "nbformat_minor": 2
}
