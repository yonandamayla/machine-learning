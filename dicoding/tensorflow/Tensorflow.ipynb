{
 "cells": [
  {
   "cell_type": "markdown",
   "id": "afb1c890-251c-4c80-a13d-33917db541da",
   "metadata": {},
   "source": [
    "# TensorFlow \n",
    "TensorFlow(TF) adalah end-to-end open source platform yang dikembangkan oleh Google Brain dan sangat populer untuk pengembangan machine learning berskala besar. Ia memiliki ekosistem tools, library, dan sumber daya komunitas yang komprehensif dan fleksibel, yang memungkinkan para peneliti dan pengembang membangun dan menerapkan (deploy) aplikasi machine learning dengan mudah.\n",
    "\n",
    "Pada awalnya TensorFlow digunakan untuk menjalankan komputasi numerik kompleks pada riset AI dan machine learning di internal Google. Dalam perkembangannya kemudian, TensorFlow menjadi tools efektif dan powerful untuk menyelesaikan permasalahan deep learning di kalangan  masyarakat luas. \n",
    "\n",
    "# Bagaimana TensorFlow Bekerja\n",
    "Pada TensorFlow, data dimodelkan sebagai tensor (array berdimensi-n) dengan elemen yang memiliki salah satu dari tipe data int32, float32, atau string. Secara alami, tensor mewakili masukan untuk operasi matematika dalam berbagai algoritma machine learning. Sebagai contoh, perkalian matriks membutuhkan dua buah tensor 2-D dan akan menghasilkan tensor 2-D juga. \n",
    "\n",
    "TensorFlow menggunakan grafik aliran data untuk mewakili seluruh proses komputasi dan state dalam algoritma machine learning, termasuk operasi matematika. Parameter, pembaruan aturan (update rules), dan masukan preprocessing. Grafik aliran data merepresentasikan komunikasi antara sub komputasi secara eksplisit sehingga mudah untuk menjalankan penghitungan independen secara paralel. \n",
    "\n",
    "Skema aliran data TensorFlow untuk pipeline pelatihan berisi subgraf untuk membaca data masukan, preprocessing, training, dan checkpointing.\n",
    "\n",
    "Secara sederhana, cara kerja TensorFlow dapat kita gambarkan sebagai berikut:\n",
    "1. Pertama kita tentukan sebuah komputasi graf untuk diselesaikan. Variabel x, y, dan angka 2 pada kotak berwarna jingga adalah input atau masukan, sedangkan operasi dilambangkan dalam lingkaran berwarna biru. Selanjutnya TensorFlow akan mengeksekusinya secara efisien dengan kode C++ yang teroptimasi. Hasilnya, operasi matematis memberikan output berupa sebuah persamaan kuadrat.\n",
    "\n",
    "TensorFlow mampu membagi grafik menjadi beberapa bagian dan menjalankannya secara paralel menggunakan CPU dan GPU. Dengan kemampuan tersebut, kita dapat melakukan pelatihan sebuah model jaringan saraf yang sangat besar hingga mencakup ratusan server, secara paralel.\n",
    "\n",
    "# Keunggulan TensorFlow\n",
    "TensorFlow menggunakan Python sebagai front-end API-nya sehingga mudah dan nyaman digunakan, bahkan oleh pemula sekalipun. Perlu dicatat bahwa TensorFlow ditulis dan dieksekusi dengan bahasa C++ yang berkinerja tinggi. Beberapa keunggulan TensorFlow antara lain: \n",
    "1. Bisa dijalankan di hampir semua platform: GPU, CPU, dan TPU (TensorFlow Processing Units) yang secara khusus dimanfaatkan untuk mengerjakan matematika tensor.\n",
    "2. Memberikan performa terbaik dengan kemampuan melakukan iterasi dan melatih model secara cepat sehingga mampu menjalankan lebih banyak eksperimen.\n",
    "3. Skalabilitas komputasi yang tinggi pada kumpulan data yang sangat besar.\n",
    "4. Pembuatan model yang mudah dengan beberapa level abstraksi sesuai kebutuhan.\n",
    "5. Menyediakan jalur langsung ke produksi, baik itu pada server, perangkat mobile atau web sehingga memudahkan kita melakukan pipeline machine learning hingga ke level produksi.\n",
    "\n",
    "Salah satu keunggulan yang sangat memudahkan dalam membangun proyek machine learning adalah TensorFlow mampu mengerjakan pipeline ML dari level training hingga ke level produksi.\n",
    "\n",
    "Pembelajaran Tensorflow : https://www.tensorflow.org/?hl=id"
   ]
  }
 ],
 "metadata": {
  "kernelspec": {
   "display_name": "Python 3 (ipykernel)",
   "language": "python",
   "name": "python3"
  },
  "language_info": {
   "codemirror_mode": {
    "name": "ipython",
    "version": 3
   },
   "file_extension": ".py",
   "mimetype": "text/x-python",
   "name": "python",
   "nbconvert_exporter": "python",
   "pygments_lexer": "ipython3",
   "version": "3.12.1"
  }
 },
 "nbformat": 4,
 "nbformat_minor": 5
}
